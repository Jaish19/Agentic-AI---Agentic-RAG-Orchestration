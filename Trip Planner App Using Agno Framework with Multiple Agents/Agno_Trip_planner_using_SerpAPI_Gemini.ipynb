{
  "cells": [
    {
      "cell_type": "code",
      "source": [
        "!pip install agno"
      ],
      "metadata": {
        "collapsed": true,
        "colab": {
          "base_uri": "https://localhost:8080/"
        },
        "id": "eCMbYDCnYV3_",
        "outputId": "86051139-1e6b-49e1-85b4-952831191c7d"
      },
      "execution_count": 1,
      "outputs": [
        {
          "output_type": "stream",
          "name": "stdout",
          "text": [
            "Collecting agno\n",
            "  Downloading agno-1.7.10-py3-none-any.whl.metadata (44 kB)\n",
            "\u001b[?25l     \u001b[90m━━━━━━━━━━━━━━━━━━━━━━━━━━━━━━━━━━━━━━━━\u001b[0m \u001b[32m0.0/44.3 kB\u001b[0m \u001b[31m?\u001b[0m eta \u001b[36m-:--:--\u001b[0m\r\u001b[2K     \u001b[90m━━━━━━━━━━━━━━━━━━━━━━━━━━━━━━━━━━━━━━━━\u001b[0m \u001b[32m44.3/44.3 kB\u001b[0m \u001b[31m2.6 MB/s\u001b[0m eta \u001b[36m0:00:00\u001b[0m\n",
            "\u001b[?25hRequirement already satisfied: docstring-parser in /usr/local/lib/python3.11/dist-packages (from agno) (0.17.0)\n",
            "Requirement already satisfied: gitpython in /usr/local/lib/python3.11/dist-packages (from agno) (3.1.45)\n",
            "Requirement already satisfied: httpx in /usr/local/lib/python3.11/dist-packages (from agno) (0.28.1)\n",
            "Requirement already satisfied: packaging in /usr/local/lib/python3.11/dist-packages (from agno) (25.0)\n",
            "Collecting pydantic-settings (from agno)\n",
            "  Downloading pydantic_settings-2.10.1-py3-none-any.whl.metadata (3.4 kB)\n",
            "Requirement already satisfied: pydantic in /usr/local/lib/python3.11/dist-packages (from agno) (2.11.7)\n",
            "Collecting python-dotenv (from agno)\n",
            "  Downloading python_dotenv-1.1.1-py3-none-any.whl.metadata (24 kB)\n",
            "Requirement already satisfied: python-multipart in /usr/local/lib/python3.11/dist-packages (from agno) (0.0.20)\n",
            "Requirement already satisfied: pyyaml in /usr/local/lib/python3.11/dist-packages (from agno) (6.0.2)\n",
            "Requirement already satisfied: rich in /usr/local/lib/python3.11/dist-packages (from agno) (13.9.4)\n",
            "Collecting tomli (from agno)\n",
            "  Downloading tomli-2.2.1-cp311-cp311-manylinux_2_17_x86_64.manylinux2014_x86_64.whl.metadata (11 kB)\n",
            "Requirement already satisfied: typer in /usr/local/lib/python3.11/dist-packages (from agno) (0.16.0)\n",
            "Requirement already satisfied: typing-extensions in /usr/local/lib/python3.11/dist-packages (from agno) (4.14.1)\n",
            "Requirement already satisfied: gitdb<5,>=4.0.1 in /usr/local/lib/python3.11/dist-packages (from gitpython->agno) (4.0.12)\n",
            "Requirement already satisfied: anyio in /usr/local/lib/python3.11/dist-packages (from httpx->agno) (4.10.0)\n",
            "Requirement already satisfied: certifi in /usr/local/lib/python3.11/dist-packages (from httpx->agno) (2025.8.3)\n",
            "Requirement already satisfied: httpcore==1.* in /usr/local/lib/python3.11/dist-packages (from httpx->agno) (1.0.9)\n",
            "Requirement already satisfied: idna in /usr/local/lib/python3.11/dist-packages (from httpx->agno) (3.10)\n",
            "Requirement already satisfied: h11>=0.16 in /usr/local/lib/python3.11/dist-packages (from httpcore==1.*->httpx->agno) (0.16.0)\n",
            "Requirement already satisfied: annotated-types>=0.6.0 in /usr/local/lib/python3.11/dist-packages (from pydantic->agno) (0.7.0)\n",
            "Requirement already satisfied: pydantic-core==2.33.2 in /usr/local/lib/python3.11/dist-packages (from pydantic->agno) (2.33.2)\n",
            "Requirement already satisfied: typing-inspection>=0.4.0 in /usr/local/lib/python3.11/dist-packages (from pydantic->agno) (0.4.1)\n",
            "Requirement already satisfied: markdown-it-py>=2.2.0 in /usr/local/lib/python3.11/dist-packages (from rich->agno) (3.0.0)\n",
            "Requirement already satisfied: pygments<3.0.0,>=2.13.0 in /usr/local/lib/python3.11/dist-packages (from rich->agno) (2.19.2)\n",
            "Requirement already satisfied: click>=8.0.0 in /usr/local/lib/python3.11/dist-packages (from typer->agno) (8.2.1)\n",
            "Requirement already satisfied: shellingham>=1.3.0 in /usr/local/lib/python3.11/dist-packages (from typer->agno) (1.5.4)\n",
            "Requirement already satisfied: smmap<6,>=3.0.1 in /usr/local/lib/python3.11/dist-packages (from gitdb<5,>=4.0.1->gitpython->agno) (5.0.2)\n",
            "Requirement already satisfied: mdurl~=0.1 in /usr/local/lib/python3.11/dist-packages (from markdown-it-py>=2.2.0->rich->agno) (0.1.2)\n",
            "Requirement already satisfied: sniffio>=1.1 in /usr/local/lib/python3.11/dist-packages (from anyio->httpx->agno) (1.3.1)\n",
            "Downloading agno-1.7.10-py3-none-any.whl (976 kB)\n",
            "\u001b[2K   \u001b[90m━━━━━━━━━━━━━━━━━━━━━━━━━━━━━━━━━━━━━━━━\u001b[0m \u001b[32m976.7/976.7 kB\u001b[0m \u001b[31m26.3 MB/s\u001b[0m eta \u001b[36m0:00:00\u001b[0m\n",
            "\u001b[?25hDownloading pydantic_settings-2.10.1-py3-none-any.whl (45 kB)\n",
            "\u001b[2K   \u001b[90m━━━━━━━━━━━━━━━━━━━━━━━━━━━━━━━━━━━━━━━━\u001b[0m \u001b[32m45.2/45.2 kB\u001b[0m \u001b[31m3.5 MB/s\u001b[0m eta \u001b[36m0:00:00\u001b[0m\n",
            "\u001b[?25hDownloading python_dotenv-1.1.1-py3-none-any.whl (20 kB)\n",
            "Downloading tomli-2.2.1-cp311-cp311-manylinux_2_17_x86_64.manylinux2014_x86_64.whl (236 kB)\n",
            "\u001b[2K   \u001b[90m━━━━━━━━━━━━━━━━━━━━━━━━━━━━━━━━━━━━━━━━\u001b[0m \u001b[32m236.0/236.0 kB\u001b[0m \u001b[31m17.3 MB/s\u001b[0m eta \u001b[36m0:00:00\u001b[0m\n",
            "\u001b[?25hInstalling collected packages: tomli, python-dotenv, pydantic-settings, agno\n",
            "Successfully installed agno-1.7.10 pydantic-settings-2.10.1 python-dotenv-1.1.1 tomli-2.2.1\n"
          ]
        }
      ]
    },
    {
      "cell_type": "code",
      "source": [
        "!pip install google-search-results"
      ],
      "metadata": {
        "collapsed": true,
        "id": "qcaLe-cspX-S",
        "outputId": "a4e92c20-6772-4031-b909-e606ce51e101",
        "colab": {
          "base_uri": "https://localhost:8080/"
        }
      },
      "execution_count": 2,
      "outputs": [
        {
          "output_type": "stream",
          "name": "stdout",
          "text": [
            "Collecting google-search-results\n",
            "  Downloading google_search_results-2.4.2.tar.gz (18 kB)\n",
            "  Preparing metadata (setup.py) ... \u001b[?25l\u001b[?25hdone\n",
            "Requirement already satisfied: requests in /usr/local/lib/python3.11/dist-packages (from google-search-results) (2.32.3)\n",
            "Requirement already satisfied: charset-normalizer<4,>=2 in /usr/local/lib/python3.11/dist-packages (from requests->google-search-results) (3.4.2)\n",
            "Requirement already satisfied: idna<4,>=2.5 in /usr/local/lib/python3.11/dist-packages (from requests->google-search-results) (3.10)\n",
            "Requirement already satisfied: urllib3<3,>=1.21.1 in /usr/local/lib/python3.11/dist-packages (from requests->google-search-results) (2.5.0)\n",
            "Requirement already satisfied: certifi>=2017.4.17 in /usr/local/lib/python3.11/dist-packages (from requests->google-search-results) (2025.8.3)\n",
            "Building wheels for collected packages: google-search-results\n",
            "  Building wheel for google-search-results (setup.py) ... \u001b[?25l\u001b[?25hdone\n",
            "  Created wheel for google-search-results: filename=google_search_results-2.4.2-py3-none-any.whl size=32010 sha256=5288b251f21f8ce98e35ae98654ff54a5b3983f71d6d12c84a1d0b26a433939c\n",
            "  Stored in directory: /root/.cache/pip/wheels/6e/42/3e/aeb691b02cb7175ec70e2da04b5658d4739d2b41e5f73cd06f\n",
            "Successfully built google-search-results\n",
            "Installing collected packages: google-search-results\n",
            "Successfully installed google-search-results-2.4.2\n"
          ]
        }
      ]
    },
    {
      "cell_type": "code",
      "source": [
        "import serpapi\n",
        "print(serpapi.__file__)\n"
      ],
      "metadata": {
        "id": "4T164mBbp2sB",
        "outputId": "cd8b9c91-40cf-4901-e6a1-391e827e18aa",
        "colab": {
          "base_uri": "https://localhost:8080/"
        }
      },
      "execution_count": 3,
      "outputs": [
        {
          "output_type": "stream",
          "name": "stdout",
          "text": [
            "/usr/local/lib/python3.11/dist-packages/serpapi/__init__.py\n"
          ]
        }
      ]
    },
    {
      "cell_type": "code",
      "source": [
        "import json\n",
        "import os\n",
        "from agno.agent import Agent\n",
        "from serpapi import GoogleSearch\n",
        "from agno.tools.serpapi import SerpApiTools\n",
        "from agno.models.google import Gemini\n",
        "from datetime import datetime\n",
        "from agno.models.openrouter import OpenRouter\n",
        "\n",
        "# --- User Inputs (replace with your desired values for Colab) ---\n",
        "# You'll need to manually set these variables as there's no UI in Colab\n",
        "source = \"BOM\"  # Example: BOM for Mumbai\n",
        "destination = \"DEL\"  # Example: DEL for Delhi\n",
        "num_days = 5\n",
        "travel_theme = \"Couple Getaway\"\n",
        "activity_preferences = \"Relaxing on the beach, exploring historical sites\"\n",
        "departure_date = datetime(2025, 10, 26).date()  # Year, Month, Day\n",
        "return_date = datetime(2025, 10, 31).date()   # Year, Month, Day\n",
        "\n",
        "# Travel Preferences\n",
        "budget = \"Standard\"\n",
        "flight_class = \"Economy\"\n",
        "hotel_rating = \"4⭐\"\n",
        "\n",
        "# Packing Checklist (for display/information, not directly used in planning logic here)\n",
        "packing_list = {\n",
        "    \"👕 Clothes\": True,\n",
        "    \"🩴 Comfortable Footwear\": True,\n",
        "    \"🕶️ Sunglasses & Sunscreen\": False,\n",
        "    \"📖 Travel Guidebook\": False,\n",
        "    \"💊 Medications & First-Aid\": True\n",
        "}\n",
        "\n",
        "# Travel Essentials (for display/information, not directly used in planning logic here)\n",
        "visa_required = False\n",
        "travel_insurance = True\n",
        "currency_converter = False"
      ],
      "metadata": {
        "id": "XIt0Kc2UYUY_"
      },
      "execution_count": 4,
      "outputs": []
    },
    {
      "cell_type": "code",
      "source": [
        "# --- API Keys ---\n",
        "# IMPORTANT: Replace with your actual API keys\n",
        "SERPAPI_KEY = \"db2270af85b9be502ee9357b9c6fcf639c8dbb50eba8da99e6cff24724d67e00\"\n",
        "os.environ[\"OPENAI_API_KEY\"] = \"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\"\n",
        "os.environ[\"OPENAI_API_BASE\"] = \"https://openrouter.ai/api/v1\"\n"
      ],
      "metadata": {
        "id": "4QHBi9VMZWE2"
      },
      "execution_count": 5,
      "outputs": []
    },
    {
      "cell_type": "code",
      "source": [
        "# --- Helper Function ---\n",
        "def format_datetime(iso_string):\n",
        "    try:\n",
        "        dt = datetime.strptime(iso_string, \"%Y-%m-%d %H:%M\")\n",
        "        return dt.strftime(\"%b-%d, %Y | %I:%M %p\")  # Example: Mar-06, 2025 | 6:20 PM\n",
        "    except:\n",
        "        return \"N/A\"\n",
        "\n",
        "# Function to fetch flight data\n",
        "def fetch_flights(source, destination, departure_date, return_date):\n",
        "    params = {\n",
        "        \"engine\": \"Google Flights\",\n",
        "        \"departure_id\": source,\n",
        "        \"arrival_id\": destination,\n",
        "        \"outbound_date\": str(departure_date),\n",
        "        \"return_date\": str(return_date),\n",
        "        \"currency\": \"INR\",\n",
        "        \"hl\": \"en\",\n",
        "        \"api_key\": SERPAPI_KEY\n",
        "    }\n",
        "    search = GoogleSearch(params)\n",
        "    results = search.get_dict()\n",
        "    return results\n",
        "\n",
        "# Function to extract top 3 cheapest flights\n",
        "def extract_cheapest_flights(flight_data):\n",
        "    best_flights = flight_data.get(\"best_flights\", [])\n",
        "    sorted_flights = sorted(best_flights, key=lambda x: x.get(\"price\", float(\"inf\")))[:3]  # Get top 3 cheapest\n",
        "    return sorted_flights\n"
      ],
      "metadata": {
        "collapsed": true,
        "id": "sI0xKJYEZal5"
      },
      "execution_count": 6,
      "outputs": []
    },
    {
      "cell_type": "code",
      "source": [
        "# --- AI Agents ---\n",
        "researcher = Agent(\n",
        "    name=\"Researcher\",\n",
        "    instructions=[\n",
        "        \"Identify the travel destination specified by the user.\",\n",
        "        \"Gather detailed information on the destination, including climate, culture, and safety tips.\",\n",
        "        \"Find popular attractions, landmarks, and must-visit places.\",\n",
        "        \"Search for activities that match the user’s interests and travel style.\",\n",
        "        \"Prioritize information from reliable sources and official travel guides.\",\n",
        "        \"Provide well-structured summaries with key insights and recommendations.\"\n",
        "    ],\n",
        "    model=OpenRouter(id=\"google/gemini-2.5-flash-lite\"),\n",
        "    tools=[SerpApiTools(api_key=SERPAPI_KEY)],\n",
        "    add_datetime_to_instructions=True,\n",
        ")\n",
        "\n",
        "planner = Agent(\n",
        "    name=\"Planner\",\n",
        "    instructions=[\n",
        "        \"Gather details about the user's travel preferences and budget.\",\n",
        "        \"Create a detailed itinerary with scheduled activities and estimated costs.\",\n",
        "        \"Ensure the itinerary includes transportation options and travel time estimates.\",\n",
        "        \"Optimize the schedule for convenience and enjoyment.\",\n",
        "        \"Present the itinerary in a structured format.\"\n",
        "    ],\n",
        "    model=OpenRouter(id=\"google/gemini-2.5-flash-lite\"),\n",
        "    add_datetime_to_instructions=True,\n",
        ")\n",
        "\n",
        "hotel_restaurant_finder = Agent(\n",
        "    name=\"Hotel & Restaurant Finder\",\n",
        "    instructions=[\n",
        "        \"Identify key locations in the user's travel itinerary.\",\n",
        "        \"Search for highly rated hotels near those locations.\",\n",
        "        \"Search for top-rated restaurants based on cuisine preferences and proximity.\",\n",
        "        \"Prioritize results based on user preferences, ratings, and availability.\",\n",
        "        \"Provide direct booking links or reservation options where possible.\"\n",
        "    ],\n",
        "    model=OpenRouter(id=\"google/gemini-2.5-flash-lite\"),\n",
        "    tools=[SerpApiTools(api_key=SERPAPI_KEY)],\n",
        "    add_datetime_to_instructions=True,\n",
        ")"
      ],
      "metadata": {
        "id": "W9j20wvDZeO-"
      },
      "execution_count": 9,
      "outputs": []
    },
    {
      "cell_type": "code",
      "source": [
        "# --- Generate Travel Plan ---\n",
        "print(f\"--- Generating Travel Plan for {destination} ({num_days} days) ---\")\n",
        "\n",
        "print(\"\\n✈️ Fetching best flight options...\")\n",
        "flight_data = fetch_flights(source, destination, departure_date, return_date)\n",
        "cheapest_flights = extract_cheapest_flights(flight_data)\n",
        "\n",
        "print(\"\\n🔍 Researching best attractions & activities...\")\n",
        "research_prompt = (\n",
        "    f\"Research the best attractions and activities in {destination} for a {num_days}-day {travel_theme.lower()} trip. \"\n",
        "    f\"The traveler enjoys: {activity_preferences}. Budget: {budget}. Flight Class: {flight_class}. \"\n",
        "    f\"Hotel Rating: {hotel_rating}. Visa Requirement: {visa_required}. Travel Insurance: {travel_insurance}.\"\n",
        ")\n",
        "research_results = researcher.run(research_prompt, stream=False)\n",
        "\n",
        "print(\"\\n🏨 Searching for hotels & restaurants...\")\n",
        "hotel_restaurant_prompt = (\n",
        "    f\"Find the best hotels and restaurants near popular attractions in {destination} for a {travel_theme.lower()} trip. \"\n",
        "    f\"Budget: {budget}. Hotel Rating: {hotel_rating}. Preferred activities: {activity_preferences}.\"\n",
        ")\n",
        "hotel_restaurant_results = hotel_restaurant_finder.run(hotel_restaurant_prompt, stream=False)\n",
        "\n",
        "print(\"\\n🗺️ Creating your personalized itinerary...\")\n",
        "planning_prompt = (\n",
        "    f\"Based on the following data, create a {num_days}-day itinerary for a {travel_theme.lower()} trip to {destination}. \"\n",
        "    f\"The traveler enjoys: {activity_preferences}. Budget: {budget}. Flight Class: {flight_class}. Hotel Rating: {hotel_rating}. \"\n",
        "    f\"Visa Requirement: {visa_required}. Travel Insurance: {travel_insurance}. Research: {research_results.content}. \"\n",
        "    f\"Flights: {json.dumps(cheapest_flights)}. Hotels & Restaurants: {hotel_restaurant_results.content}.\"\n",
        ")\n",
        "itinerary = planner.run(planning_prompt, stream=False)\n"
      ],
      "metadata": {
        "colab": {
          "base_uri": "https://localhost:8080/"
        },
        "id": "vpP8uQVqZimU",
        "outputId": "b3670f78-55d7-4401-b99f-7464ccd1ecee"
      },
      "execution_count": 10,
      "outputs": [
        {
          "output_type": "stream",
          "name": "stdout",
          "text": [
            "--- Generating Travel Plan for DEL (5 days) ---\n",
            "\n",
            "✈️ Fetching best flight options...\n",
            "\n",
            "🔍 Researching best attractions & activities...\n",
            "\n",
            "🏨 Searching for hotels & restaurants...\n",
            "\n",
            "🗺️ Creating your personalized itinerary...\n"
          ]
        }
      ]
    },
    {
      "cell_type": "code",
      "source": [
        "# --- Display Results ---\n",
        "print(\"\\n\" + \"=\"*50)\n",
        "print(\"✈️ Cheapest Flight Options\")\n",
        "if cheapest_flights:\n",
        "    for idx, flight in enumerate(cheapest_flights):\n",
        "        airline_name = flight.get(\"airline\", \"Unknown Airline\")\n",
        "        price = flight.get(\"price\", \"Not Available\")\n",
        "        total_duration = flight.get(\"total_duration\", \"N/A\")\n",
        "\n",
        "        flights_info = flight.get(\"flights\", [{}])\n",
        "        departure = flights_info[0].get(\"departure_airport\", {})\n",
        "        arrival = flights_info[-1].get(\"arrival_airport\", {})\n",
        "\n",
        "        departure_time = format_datetime(departure.get(\"time\", \"N/A\"))\n",
        "        arrival_time = format_datetime(arrival.get(\"time\", \"N/A\"))\n",
        "\n",
        "        # For booking links, you might need to construct them manually or note that they might not be directly available\n",
        "        # without further API calls or specific search parameters that generate public URLs.\n",
        "        # The original code's booking link generation might not directly translate to a clickable public URL in all cases.\n",
        "        booking_link = \"Not directly available via this API output\"\n",
        "\n",
        "        print(f\"\\n--- Flight Option {idx + 1} ---\")\n",
        "        print(f\"Airline: {airline_name}\")\n",
        "        print(f\"Departure: {departure_time}\")\n",
        "        print(f\"Arrival: {arrival_time}\")\n",
        "        print(f\"Duration: {total_duration} min\")\n",
        "        print(f\"Price: {price}\")\n",
        "        print(f\"Booking Link: {booking_link}\")\n",
        "else:\n",
        "    print(\"⚠️ No flight data available.\")\n",
        "\n",
        "print(\"\\n\" + \"=\"*50)\n",
        "print(\"🏨 Hotels & Restaurants\")\n",
        "print(hotel_restaurant_results.content)\n",
        "\n",
        "print(\"\\n\" + \"=\"*50)\n",
        "print(\"🗺️ Your Personalized Itinerary\")\n",
        "print(itinerary.content)\n",
        "\n",
        "print(\"\\n\" + \"=\"*50)\n",
        "print(\"✅ Travel plan generated successfully!\")"
      ],
      "metadata": {
        "id": "7dJg98DRZk6M",
        "colab": {
          "base_uri": "https://localhost:8080/"
        },
        "outputId": "fb4b252b-bc9f-4b25-c52d-38f36d41add2"
      },
      "execution_count": 11,
      "outputs": [
        {
          "output_type": "stream",
          "name": "stdout",
          "text": [
            "\n",
            "==================================================\n",
            "✈️ Cheapest Flight Options\n",
            "⚠️ No flight data available.\n",
            "\n",
            "==================================================\n",
            "🏨 Hotels & Restaurants\n",
            "Please specify which city you are referring to by 'DEL'.\n",
            "\n",
            "==================================================\n",
            "🗺️ Your Personalized Itinerary\n",
            "It appears there's been a slight misunderstanding. The IATA airport code \"DEL\" refers to Indira Gandhi International Airport, which serves **Delhi, India**. Delhi is a vibrant city with a rich history, but it is **not a beach destination**.\n",
            "\n",
            "Given your interest in \"relaxing on the beach,\" Delhi might not be the ideal location for your getaway.\n",
            "\n",
            "To help me create the perfect 5-day itinerary for your couple's getaway, please confirm:\n",
            "\n",
            "1.  **Is Delhi your intended destination?** If so, we can certainly create an amazing historical and cultural itinerary, but we'll need to adjust expectations regarding beach relaxation.\n",
            "2.  **If not Delhi, what is your desired beach destination?** If you have another city or region in mind that offers both beaches and historical sites, please let me know, and I can research that for you.\n",
            "\n",
            "Once I have this clarification, I can proceed with crafting a detailed itinerary tailored to your preferences and budget!\n",
            "\n",
            "==================================================\n",
            "✅ Travel plan generated successfully!\n"
          ]
        }
      ]
    }
  ],
  "metadata": {
    "colab": {
      "provenance": []
    },
    "kernelspec": {
      "display_name": "Python 3",
      "name": "python3"
    }
  },
  "nbformat": 4,
  "nbformat_minor": 0
}