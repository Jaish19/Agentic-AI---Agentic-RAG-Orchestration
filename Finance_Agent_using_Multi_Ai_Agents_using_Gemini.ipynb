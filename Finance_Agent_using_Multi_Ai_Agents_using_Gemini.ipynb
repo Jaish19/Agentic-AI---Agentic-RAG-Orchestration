{
  "cells": [
    {
      "cell_type": "code",
      "source": [
        "!pip install -U agno"
      ],
      "metadata": {
        "collapsed": true,
        "id": "wIDN4FSfvC7Y",
        "outputId": "5eb04095-0eb7-4e3b-8e58-a3530ad2b5e6",
        "colab": {
          "base_uri": "https://localhost:8080/"
        }
      },
      "execution_count": 17,
      "outputs": [
        {
          "output_type": "stream",
          "name": "stdout",
          "text": [
            "Requirement already satisfied: agno in /usr/local/lib/python3.11/dist-packages (1.5.4)\n",
            "Requirement already satisfied: docstring-parser in /usr/local/lib/python3.11/dist-packages (from agno) (0.16)\n",
            "Requirement already satisfied: gitpython in /usr/local/lib/python3.11/dist-packages (from agno) (3.1.44)\n",
            "Requirement already satisfied: httpx in /usr/local/lib/python3.11/dist-packages (from agno) (0.28.1)\n",
            "Requirement already satisfied: pydantic-settings in /usr/local/lib/python3.11/dist-packages (from agno) (2.9.1)\n",
            "Requirement already satisfied: pydantic in /usr/local/lib/python3.11/dist-packages (from agno) (2.11.4)\n",
            "Requirement already satisfied: python-dotenv in /usr/local/lib/python3.11/dist-packages (from agno) (1.1.0)\n",
            "Requirement already satisfied: python-multipart in /usr/local/lib/python3.11/dist-packages (from agno) (0.0.20)\n",
            "Requirement already satisfied: pyyaml in /usr/local/lib/python3.11/dist-packages (from agno) (6.0.2)\n",
            "Requirement already satisfied: rich in /usr/local/lib/python3.11/dist-packages (from agno) (13.9.4)\n",
            "Requirement already satisfied: tomli in /usr/local/lib/python3.11/dist-packages (from agno) (2.2.1)\n",
            "Requirement already satisfied: typer in /usr/local/lib/python3.11/dist-packages (from agno) (0.15.3)\n",
            "Requirement already satisfied: typing-extensions in /usr/local/lib/python3.11/dist-packages (from agno) (4.13.2)\n",
            "Requirement already satisfied: gitdb<5,>=4.0.1 in /usr/local/lib/python3.11/dist-packages (from gitpython->agno) (4.0.12)\n",
            "Requirement already satisfied: anyio in /usr/local/lib/python3.11/dist-packages (from httpx->agno) (4.9.0)\n",
            "Requirement already satisfied: certifi in /usr/local/lib/python3.11/dist-packages (from httpx->agno) (2025.4.26)\n",
            "Requirement already satisfied: httpcore==1.* in /usr/local/lib/python3.11/dist-packages (from httpx->agno) (1.0.9)\n",
            "Requirement already satisfied: idna in /usr/local/lib/python3.11/dist-packages (from httpx->agno) (3.10)\n",
            "Requirement already satisfied: h11>=0.16 in /usr/local/lib/python3.11/dist-packages (from httpcore==1.*->httpx->agno) (0.16.0)\n",
            "Requirement already satisfied: annotated-types>=0.6.0 in /usr/local/lib/python3.11/dist-packages (from pydantic->agno) (0.7.0)\n",
            "Requirement already satisfied: pydantic-core==2.33.2 in /usr/local/lib/python3.11/dist-packages (from pydantic->agno) (2.33.2)\n",
            "Requirement already satisfied: typing-inspection>=0.4.0 in /usr/local/lib/python3.11/dist-packages (from pydantic->agno) (0.4.0)\n",
            "Requirement already satisfied: markdown-it-py>=2.2.0 in /usr/local/lib/python3.11/dist-packages (from rich->agno) (3.0.0)\n",
            "Requirement already satisfied: pygments<3.0.0,>=2.13.0 in /usr/local/lib/python3.11/dist-packages (from rich->agno) (2.19.1)\n",
            "Requirement already satisfied: click>=8.0.0 in /usr/local/lib/python3.11/dist-packages (from typer->agno) (8.2.0)\n",
            "Requirement already satisfied: shellingham>=1.3.0 in /usr/local/lib/python3.11/dist-packages (from typer->agno) (1.5.4)\n",
            "Requirement already satisfied: smmap<6,>=3.0.1 in /usr/local/lib/python3.11/dist-packages (from gitdb<5,>=4.0.1->gitpython->agno) (5.0.2)\n",
            "Requirement already satisfied: mdurl~=0.1 in /usr/local/lib/python3.11/dist-packages (from markdown-it-py>=2.2.0->rich->agno) (0.1.2)\n",
            "Requirement already satisfied: sniffio>=1.1 in /usr/local/lib/python3.11/dist-packages (from anyio->httpx->agno) (1.3.1)\n"
          ]
        }
      ]
    },
    {
      "cell_type": "code",
      "source": [
        "!pip install groq duckduckgo-search"
      ],
      "metadata": {
        "collapsed": true,
        "id": "oK9DzcbIvF0w",
        "outputId": "dc1b7b87-9391-4cad-a613-a733d54bf75b",
        "colab": {
          "base_uri": "https://localhost:8080/"
        }
      },
      "execution_count": 18,
      "outputs": [
        {
          "output_type": "stream",
          "name": "stdout",
          "text": [
            "Collecting groq\n",
            "  Downloading groq-0.25.0-py3-none-any.whl.metadata (15 kB)\n",
            "Collecting duckduckgo-search\n",
            "  Downloading duckduckgo_search-8.0.2-py3-none-any.whl.metadata (16 kB)\n",
            "Requirement already satisfied: anyio<5,>=3.5.0 in /usr/local/lib/python3.11/dist-packages (from groq) (4.9.0)\n",
            "Requirement already satisfied: distro<2,>=1.7.0 in /usr/local/lib/python3.11/dist-packages (from groq) (1.9.0)\n",
            "Requirement already satisfied: httpx<1,>=0.23.0 in /usr/local/lib/python3.11/dist-packages (from groq) (0.28.1)\n",
            "Requirement already satisfied: pydantic<3,>=1.9.0 in /usr/local/lib/python3.11/dist-packages (from groq) (2.11.4)\n",
            "Requirement already satisfied: sniffio in /usr/local/lib/python3.11/dist-packages (from groq) (1.3.1)\n",
            "Requirement already satisfied: typing-extensions<5,>=4.10 in /usr/local/lib/python3.11/dist-packages (from groq) (4.13.2)\n",
            "Requirement already satisfied: click>=8.1.8 in /usr/local/lib/python3.11/dist-packages (from duckduckgo-search) (8.2.0)\n",
            "Collecting primp>=0.15.0 (from duckduckgo-search)\n",
            "  Downloading primp-0.15.0-cp38-abi3-manylinux_2_17_x86_64.manylinux2014_x86_64.whl.metadata (13 kB)\n",
            "Requirement already satisfied: lxml>=5.3.0 in /usr/local/lib/python3.11/dist-packages (from duckduckgo-search) (5.4.0)\n",
            "Requirement already satisfied: idna>=2.8 in /usr/local/lib/python3.11/dist-packages (from anyio<5,>=3.5.0->groq) (3.10)\n",
            "Requirement already satisfied: certifi in /usr/local/lib/python3.11/dist-packages (from httpx<1,>=0.23.0->groq) (2025.4.26)\n",
            "Requirement already satisfied: httpcore==1.* in /usr/local/lib/python3.11/dist-packages (from httpx<1,>=0.23.0->groq) (1.0.9)\n",
            "Requirement already satisfied: h11>=0.16 in /usr/local/lib/python3.11/dist-packages (from httpcore==1.*->httpx<1,>=0.23.0->groq) (0.16.0)\n",
            "Requirement already satisfied: annotated-types>=0.6.0 in /usr/local/lib/python3.11/dist-packages (from pydantic<3,>=1.9.0->groq) (0.7.0)\n",
            "Requirement already satisfied: pydantic-core==2.33.2 in /usr/local/lib/python3.11/dist-packages (from pydantic<3,>=1.9.0->groq) (2.33.2)\n",
            "Requirement already satisfied: typing-inspection>=0.4.0 in /usr/local/lib/python3.11/dist-packages (from pydantic<3,>=1.9.0->groq) (0.4.0)\n",
            "Downloading groq-0.25.0-py3-none-any.whl (129 kB)\n",
            "\u001b[2K   \u001b[90m━━━━━━━━━━━━━━━━━━━━━━━━━━━━━━━━━━━━━━━━\u001b[0m \u001b[32m129.4/129.4 kB\u001b[0m \u001b[31m9.1 MB/s\u001b[0m eta \u001b[36m0:00:00\u001b[0m\n",
            "\u001b[?25hDownloading duckduckgo_search-8.0.2-py3-none-any.whl (18 kB)\n",
            "Downloading primp-0.15.0-cp38-abi3-manylinux_2_17_x86_64.manylinux2014_x86_64.whl (3.3 MB)\n",
            "\u001b[2K   \u001b[90m━━━━━━━━━━━━━━━━━━━━━━━━━━━━━━━━━━━━━━━━\u001b[0m \u001b[32m3.3/3.3 MB\u001b[0m \u001b[31m70.3 MB/s\u001b[0m eta \u001b[36m0:00:00\u001b[0m\n",
            "\u001b[?25hInstalling collected packages: primp, duckduckgo-search, groq\n",
            "Successfully installed duckduckgo-search-8.0.2 groq-0.25.0 primp-0.15.0\n"
          ]
        }
      ]
    },
    {
      "cell_type": "code",
      "source": [
        "from textwrap import dedent\n",
        "\n",
        "from agno.agent import Agent\n",
        "# from agno.models.anthropic import Claude\n",
        "from agno.models.openai import OpenAIChat\n",
        "from agno.team.team import Team\n",
        "from agno.tools.duckduckgo import DuckDuckGoTools\n",
        "from agno.tools.reasoning import ReasoningTools\n",
        "from agno.tools.yfinance import YFinanceTools\n",
        "from agno.models.google import Gemini\n",
        "from google.colab import userdata\n",
        "import os\n",
        "\n",
        "os.environ[\"GOOGLE_API_KEY\"] = userdata.get(\"GEMINI_API\")\n",
        "\n",
        "\n",
        "web_agent = Agent(\n",
        "    name=\"Web Search Agent\",\n",
        "    role=\"Handle web search requests\",\n",
        "    model=Gemini(id=\"gemini-2.0-flash\"),\n",
        "    tools=[DuckDuckGoTools()],\n",
        "    instructions=\"Always include sources.\",\n",
        "    add_datetime_to_instructions=True,\n",
        ")\n",
        "\n",
        "finance_agent = Agent(\n",
        "    name=\"Finance Agent\",\n",
        "    role=\"Handle financial data requests\",\n",
        "    model=Gemini(id=\"gemini-2.0-flash\"),\n",
        "    tools=[\n",
        "        YFinanceTools(stock_price=True, analyst_recommendations=True, company_info=True)\n",
        "    ],\n",
        "    instructions=\"Use tables to display data.\",\n",
        "    add_datetime_to_instructions=True,\n",
        ")\n",
        "\n",
        "team_leader = Team(\n",
        "    name=\"Reasoning Finance Team Leader\",\n",
        "    mode=\"coordinate\",\n",
        "    model=Gemini(id=\"gemini-2.0-flash\"),\n",
        "    members=[web_agent, finance_agent],\n",
        "    tools=[ReasoningTools(add_instructions=True)],\n",
        "    instructions=[\n",
        "        \"Use tables to display data.\",\n",
        "        \"Only respond with the final answer, no other text.\",\n",
        "    ],\n",
        "    markdown=True,\n",
        "    show_members_responses=True,\n",
        "    enable_agentic_context=True,\n",
        "    add_datetime_to_instructions=True,\n",
        "    success_criteria=\"The team has successfully completed the task.\",\n",
        ")\n",
        "\n",
        "task = \"\"\"\\\n",
        "Analyze the semiconductor market performance focusing on:\n",
        "- NVIDIA (NVDA)\n",
        "- AMD (AMD)\n",
        "- Intel (INTC)\n",
        "- Taiwan Semiconductor (TSM)\n",
        "Compare their market positions, growth metrics, and future outlook.\"\"\"\n",
        "\n",
        "team_leader.print_response(\n",
        "    task,\n",
        "    stream=True,\n",
        "    stream_intermediate_steps=True,\n",
        "    show_full_reasoning=True,\n",
        ")"
      ],
      "metadata": {
        "id": "13WXzgPevGMR",
        "outputId": "3370a45f-8935-4938-f73c-d50489c5a7e0",
        "colab": {
          "base_uri": "https://localhost:8080/",
          "height": 1000,
          "referenced_widgets": [
            "14205b3dba2949efb95cebe52cd305b0",
            "3af7f473f24140e88812c9845cc0c113"
          ]
        }
      },
      "execution_count": 20,
      "outputs": [
        {
          "output_type": "display_data",
          "data": {
            "text/plain": [
              "Output()"
            ],
            "application/vnd.jupyter.widget-view+json": {
              "version_major": 2,
              "version_minor": 0,
              "model_id": "14205b3dba2949efb95cebe52cd305b0"
            }
          },
          "metadata": {}
        },
        {
          "output_type": "display_data",
          "data": {
            "text/plain": [],
            "text/html": [
              "<pre style=\"white-space:pre;overflow-x:auto;line-height:normal;font-family:Menlo,'DejaVu Sans Mono',consolas,'Courier New',monospace\"></pre>\n"
            ]
          },
          "metadata": {}
        }
      ]
    }
  ],
  "metadata": {
    "colab": {
      "name": "Welcome To Colab",
      "provenance": [],
      "gpuType": "T4"
    },
    "kernelspec": {
      "display_name": "Python 3",
      "name": "python3"
    },
    "accelerator": "GPU",
    "widgets": {
      "application/vnd.jupyter.widget-state+json": {
        "14205b3dba2949efb95cebe52cd305b0": {
          "model_module": "@jupyter-widgets/output",
          "model_name": "OutputModel",
          "model_module_version": "1.0.0",
          "state": {
            "_dom_classes": [],
            "_model_module": "@jupyter-widgets/output",
            "_model_module_version": "1.0.0",
            "_model_name": "OutputModel",
            "_view_count": null,
            "_view_module": "@jupyter-widgets/output",
            "_view_module_version": "1.0.0",
            "_view_name": "OutputView",
            "layout": "IPY_MODEL_3af7f473f24140e88812c9845cc0c113",
            "msg_id": "",
            "outputs": [
              {
                "output_type": "display_data",
                "data": {
                  "text/plain": "\u001b[36m┏━\u001b[0m\u001b[36m Message \u001b[0m\u001b[36m━━━━━━━━━━━━━━━━━━━━━━━━━━━━━━━━━━━━━━━━━━━━━━━━━━━━━━━━━━━━━━━━━━━━━━━━━━━━━━━━━━━━━━━━━━━━━━━━━━━━━━\u001b[0m\u001b[36m━┓\u001b[0m\n\u001b[36m┃\u001b[0m                                                                                                                 \u001b[36m┃\u001b[0m\n\u001b[36m┃\u001b[0m \u001b[32mAnalyze the semiconductor market performance focusing on:\u001b[0m                                                       \u001b[36m┃\u001b[0m\n\u001b[36m┃\u001b[0m \u001b[32m- NVIDIA (NVDA)\u001b[0m                                                                                                 \u001b[36m┃\u001b[0m\n\u001b[36m┃\u001b[0m \u001b[32m- AMD (AMD)\u001b[0m                                                                                                     \u001b[36m┃\u001b[0m\n\u001b[36m┃\u001b[0m \u001b[32m- Intel (INTC)\u001b[0m                                                                                                  \u001b[36m┃\u001b[0m\n\u001b[36m┃\u001b[0m \u001b[32m- Taiwan Semiconductor (TSM)\u001b[0m                                                                                    \u001b[36m┃\u001b[0m\n\u001b[36m┃\u001b[0m \u001b[32mCompare their market positions, growth metrics, and future outlook.\u001b[0m                                             \u001b[36m┃\u001b[0m\n\u001b[36m┃\u001b[0m                                                                                                                 \u001b[36m┃\u001b[0m\n\u001b[36m┗━━━━━━━━━━━━━━━━━━━━━━━━━━━━━━━━━━━━━━━━━━━━━━━━━━━━━━━━━━━━━━━━━━━━━━━━━━━━━━━━━━━━━━━━━━━━━━━━━━━━━━━━━━━━━━━━━┛\u001b[0m\n\u001b[32m┏━\u001b[0m\u001b[32m Reasoning step 1 \u001b[0m\u001b[32m━━━━━━━━━━━━━━━━━━━━━━━━━━━━━━━━━━━━━━━━━━━━━━━━━━━━━━━━━━━━━━━━━━━━━━━━━━━━━━━━━━━━━━━━━━━━━\u001b[0m\u001b[32m━┓\u001b[0m\n\u001b[32m┃\u001b[0m                                                                                                                 \u001b[32m┃\u001b[0m\n\u001b[32m┃\u001b[0m \u001b[1mAnalyze Semiconductor Market\u001b[0m                                                                                    \u001b[32m┃\u001b[0m\n\u001b[32m┃\u001b[0m \u001b[1;2mAction:\u001b[0m\u001b[2m Gather data using finance agent\u001b[0m                                                                         \u001b[32m┃\u001b[0m\n\u001b[32m┃\u001b[0m                                                                                                                 \u001b[32m┃\u001b[0m\n\u001b[32m┃\u001b[0m \u001b[1;2mReasoning:\u001b[0m\u001b[2m I need to analyze the semiconductor market performance of NVIDIA, AMD, Intel, and Taiwan \u001b[0m            \u001b[32m┃\u001b[0m\n\u001b[32m┃\u001b[0m \u001b[2mSemiconductor, and then compare their market positions, growth metrics, and future outlook. I will start by \u001b[0m    \u001b[32m┃\u001b[0m\n\u001b[32m┃\u001b[0m \u001b[2mgathering the necessary data using the available tools. I will assign tasks to the finance agent to collect \u001b[0m    \u001b[32m┃\u001b[0m\n\u001b[32m┃\u001b[0m \u001b[2mstock prices, company information, and analyst recommendations for each of the companies. After gathering all \u001b[0m  \u001b[32m┃\u001b[0m\n\u001b[32m┃\u001b[0m \u001b[2mthe information I will compare the gathered information and create a table for the final answer.\u001b[0m                \u001b[32m┃\u001b[0m\n\u001b[32m┃\u001b[0m \u001b[1;2mConfidence:\u001b[0m\u001b[2m 0.9\u001b[0m                                                                                                 \u001b[32m┃\u001b[0m\n\u001b[32m┃\u001b[0m                                                                                                                 \u001b[32m┃\u001b[0m\n\u001b[32m┗━━━━━━━━━━━━━━━━━━━━━━━━━━━━━━━━━━━━━━━━━━━━━━━━━━━━━━━━━━━━━━━━━━━━━━━━━━━━━━━━━━━━━━━━━━━━━━━━━━━━━━━━━━━━━━━━━┛\u001b[0m\n\u001b[32m┏━\u001b[0m\u001b[32m Reasoning step 2 \u001b[0m\u001b[32m━━━━━━━━━━━━━━━━━━━━━━━━━━━━━━━━━━━━━━━━━━━━━━━━━━━━━━━━━━━━━━━━━━━━━━━━━━━━━━━━━━━━━━━━━━━━━\u001b[0m\u001b[32m━┓\u001b[0m\n\u001b[32m┃\u001b[0m                                                                                                                 \u001b[32m┃\u001b[0m\n\u001b[32m┃\u001b[0m \u001b[1mConsolidate and present final answer\u001b[0m                                                                            \u001b[32m┃\u001b[0m\n\u001b[32m┃\u001b[0m \u001b[1;2mAction:\u001b[0m\u001b[2m Present the final answer in a table.\u001b[0m                                                                    \u001b[32m┃\u001b[0m\n\u001b[32m┃\u001b[0m                                                                                                                 \u001b[32m┃\u001b[0m\n\u001b[32m┃\u001b[0m \u001b[1;2mReasoning:\u001b[0m\u001b[2m I have gathered all the required information about the semiconductor market performance of NVIDIA, \u001b[0m  \u001b[32m┃\u001b[0m\n\u001b[32m┃\u001b[0m \u001b[2mAMD, Intel, and Taiwan Semiconductor. Now I will consolidate all the information in a table and respond to the \u001b[0m \u001b[32m┃\u001b[0m\n\u001b[32m┃\u001b[0m \u001b[2muser.\u001b[0m                                                                                                           \u001b[32m┃\u001b[0m\n\u001b[32m┃\u001b[0m \u001b[1;2mConfidence:\u001b[0m\u001b[2m 0.9\u001b[0m                                                                                                 \u001b[32m┃\u001b[0m\n\u001b[32m┃\u001b[0m                                                                                                                 \u001b[32m┃\u001b[0m\n\u001b[32m┗━━━━━━━━━━━━━━━━━━━━━━━━━━━━━━━━━━━━━━━━━━━━━━━━━━━━━━━━━━━━━━━━━━━━━━━━━━━━━━━━━━━━━━━━━━━━━━━━━━━━━━━━━━━━━━━━━┛\u001b[0m\n\u001b[33m┏━\u001b[0m\u001b[33m Team Tool Calls \u001b[0m\u001b[33m━━━━━━━━━━━━━━━━━━━━━━━━━━━━━━━━━━━━━━━━━━━━━━━━━━━━━━━━━━━━━━━━━━━━━━━━━━━━━━━━━━━━━━━━━━━━━━\u001b[0m\u001b[33m━┓\u001b[0m\n\u001b[33m┃\u001b[0m                                                                                                                 \u001b[33m┃\u001b[0m\n\u001b[33m┃\u001b[0m • think(confidence=0.9, action=Gather data using finance agent, thought=I need to analyze the semiconductor     \u001b[33m┃\u001b[0m\n\u001b[33m┃\u001b[0m   market performance of NVIDIA, AMD, Intel, and Taiwan Semiconductor, and then compare their market positions,  \u001b[33m┃\u001b[0m\n\u001b[33m┃\u001b[0m   growth metrics, and future outlook. I will start by gathering the necessary data using the available tools.   \u001b[33m┃\u001b[0m\n\u001b[33m┃\u001b[0m   I will assign tasks to the finance agent to collect stock prices, company information, and analyst            \u001b[33m┃\u001b[0m\n\u001b[33m┃\u001b[0m   recommendations for each of the companies. After gathering all the information I will compare the gathered    \u001b[33m┃\u001b[0m\n\u001b[33m┃\u001b[0m   information and create a table for the final answer., title=Analyze Semiconductor Market)                     \u001b[33m┃\u001b[0m\n\u001b[33m┃\u001b[0m                                                                                                                 \u001b[33m┃\u001b[0m\n\u001b[33m┃\u001b[0m • transfer_task_to_member(member_id=finance-agent, task_description=Get the current stock price for NVIDIA      \u001b[33m┃\u001b[0m\n\u001b[33m┃\u001b[0m   (NVDA), AMD (AMD), Intel (INTC), and Taiwan Semiconductor (TSM)., expected_output=Current stock prices for    \u001b[33m┃\u001b[0m\n\u001b[33m┃\u001b[0m   NVDA, AMD, INTC, and TSM.)                                                                                    \u001b[33m┃\u001b[0m\n\u001b[33m┃\u001b[0m                                                                                                                 \u001b[33m┃\u001b[0m\n\u001b[33m┃\u001b[0m • transfer_task_to_member(expected_output=Company information (market cap, P/E ratio, revenue growth) for       \u001b[33m┃\u001b[0m\n\u001b[33m┃\u001b[0m   NVDA, AMD, INTC, and TSM., task_description=Get company information (market cap, P/E ratio, revenue growth)   \u001b[33m┃\u001b[0m\n\u001b[33m┃\u001b[0m   for NVIDIA (NVDA), AMD (AMD), Intel (INTC), and Taiwan Semiconductor (TSM)., member_id=finance-agent)         \u001b[33m┃\u001b[0m\n\u001b[33m┃\u001b[0m                                                                                                                 \u001b[33m┃\u001b[0m\n\u001b[33m┃\u001b[0m • transfer_task_to_member(expected_output=Analyst recommendations for NVDA, AMD, INTC, and TSM.,                \u001b[33m┃\u001b[0m\n\u001b[33m┃\u001b[0m   task_description=Get analyst recommendations for NVIDIA (NVDA), AMD (AMD), Intel (INTC), and Taiwan           \u001b[33m┃\u001b[0m\n\u001b[33m┃\u001b[0m   Semiconductor (TSM)., member_id=finance-agent)                                                                \u001b[33m┃\u001b[0m\n\u001b[33m┃\u001b[0m                                                                                                                 \u001b[33m┃\u001b[0m\n\u001b[33m┃\u001b[0m • think(thought=I have gathered all the required information about the semiconductor market performance of      \u001b[33m┃\u001b[0m\n\u001b[33m┃\u001b[0m   NVIDIA, AMD, Intel, and Taiwan Semiconductor. Now I will consolidate all the information in a table and       \u001b[33m┃\u001b[0m\n\u001b[33m┃\u001b[0m   respond to the user., action=Present the final answer in a table., confidence=0.9, title=Consolidate and      \u001b[33m┃\u001b[0m\n\u001b[33m┃\u001b[0m   present final answer)                                                                                         \u001b[33m┃\u001b[0m\n\u001b[33m┃\u001b[0m                                                                                                                 \u001b[33m┃\u001b[0m\n\u001b[33m┗━━━━━━━━━━━━━━━━━━━━━━━━━━━━━━━━━━━━━━━━━━━━━━━━━━━━━━━━━━━━━━━━━━━━━━━━━━━━━━━━━━━━━━━━━━━━━━━━━━━━━━━━━━━━━━━━━┛\u001b[0m\n\u001b[34m┏━\u001b[0m\u001b[34m Response (27.8s) \u001b[0m\u001b[34m━━━━━━━━━━━━━━━━━━━━━━━━━━━━━━━━━━━━━━━━━━━━━━━━━━━━━━━━━━━━━━━━━━━━━━━━━━━━━━━━━━━━━━━━━━━━━\u001b[0m\u001b[34m━┓\u001b[0m\n\u001b[34m┃\u001b[0m                                                                                                                 \u001b[34m┃\u001b[0m\n\u001b[34m┃\u001b[0m                                                                                                                 \u001b[34m┃\u001b[0m\n\u001b[34m┃\u001b[0m                                                                                                                 \u001b[34m┃\u001b[0m\n\u001b[34m┃\u001b[0m  \u001b[1m                    \u001b[0m \u001b[1m                   \u001b[0m \u001b[1m                  \u001b[0m \u001b[1m           \u001b[0m \u001b[1m                \u001b[0m \u001b[1m \u001b[0m\u001b[1mAnalyst \u001b[0m\u001b[1m          \u001b[0m\u001b[1m \u001b[0m  \u001b[34m┃\u001b[0m\n\u001b[34m┃\u001b[0m  \u001b[1m                    \u001b[0m \u001b[1m                   \u001b[0m \u001b[1m                  \u001b[0m \u001b[1m           \u001b[0m \u001b[1m                \u001b[0m \u001b[1m \u001b[0m\u001b[1mRecommendation \u001b[0m\u001b[1m   \u001b[0m\u001b[1m \u001b[0m  \u001b[34m┃\u001b[0m\n\u001b[34m┃\u001b[0m  \u001b[1m \u001b[0m\u001b[1mCompany\u001b[0m\u001b[1m           \u001b[0m\u001b[1m \u001b[0m \u001b[1m \u001b[0m\u001b[1mStock Price (USD)\u001b[0m\u001b[1m \u001b[0m \u001b[1m \u001b[0m\u001b[1mMarket Cap (USD)\u001b[0m\u001b[1m \u001b[0m \u001b[1m \u001b[0m\u001b[1mP/E Ratio\u001b[0m\u001b[1m \u001b[0m \u001b[1m \u001b[0m\u001b[1mRevenue Growth\u001b[0m\u001b[1m \u001b[0m \u001b[1m \u001b[0m\u001b[1m(Current)\u001b[0m\u001b[1m         \u001b[0m\u001b[1m \u001b[0m  \u001b[34m┃\u001b[0m\n\u001b[34m┃\u001b[0m  ━━━━━━━━━━━━━━━━━━━━━━━━━━━━━━━━━━━━━━━━━━━━━━━━━━━━━━━━━━━━━━━━━━━━━━━━━━━━━━━━━━━━━━━━━━━━━━━━━━━━━━━━━━━━━  \u001b[34m┃\u001b[0m\n\u001b[34m┃\u001b[0m   NVIDIA (NVDA)        131.29              3201847787520      44.66       0.78             Strong Buy (12),     \u001b[34m┃\u001b[0m\n\u001b[34m┃\u001b[0m                                                                                            Buy (41), Hold       \u001b[34m┃\u001b[0m\n\u001b[34m┃\u001b[0m                                                                                            (8), Sell (1),       \u001b[34m┃\u001b[0m\n\u001b[34m┃\u001b[0m                                                                                            Strong Sell (0)      \u001b[34m┃\u001b[0m\n\u001b[34m┃\u001b[0m   AMD (AMD)            110.31              178856640512       80.52       0.36             Strong Buy (8),      \u001b[34m┃\u001b[0m\n\u001b[34m┃\u001b[0m                                                                                            Buy (26), Hold       \u001b[34m┃\u001b[0m\n\u001b[34m┃\u001b[0m                                                                                            (16), Sell (1),      \u001b[34m┃\u001b[0m\n\u001b[34m┃\u001b[0m                                                                                            Strong Sell (0)      \u001b[34m┃\u001b[0m\n\u001b[34m┃\u001b[0m   Intel (INTC)         20.05               87458095104        N/A         -0.00            Strong Buy (0),      \u001b[34m┃\u001b[0m\n\u001b[34m┃\u001b[0m                                                                                            Buy (2), Hold        \u001b[34m┃\u001b[0m\n\u001b[34m┃\u001b[0m                                                                                            (39), Sell (2),      \u001b[34m┃\u001b[0m\n\u001b[34m┃\u001b[0m                                                                                            Strong Sell (2)      \u001b[34m┃\u001b[0m\n\u001b[34m┃\u001b[0m   Taiwan               191.98              995708108800       23.10       0.42             Strong Buy (5),      \u001b[34m┃\u001b[0m\n\u001b[34m┃\u001b[0m   Semiconductor                                                                            Buy (11), Hold       \u001b[34m┃\u001b[0m\n\u001b[34m┃\u001b[0m   (TSM)                                                                                    (1), Sell (0),       \u001b[34m┃\u001b[0m\n\u001b[34m┃\u001b[0m                                                                                            Strong Sell (0)      \u001b[34m┃\u001b[0m\n\u001b[34m┃\u001b[0m                                                                                                                 \u001b[34m┃\u001b[0m\n\u001b[34m┃\u001b[0m                                                                                                                 \u001b[34m┃\u001b[0m\n\u001b[34m┗━━━━━━━━━━━━━━━━━━━━━━━━━━━━━━━━━━━━━━━━━━━━━━━━━━━━━━━━━━━━━━━━━━━━━━━━━━━━━━━━━━━━━━━━━━━━━━━━━━━━━━━━━━━━━━━━━┛\u001b[0m\n",
                  "text/html": "<pre style=\"white-space:pre;overflow-x:auto;line-height:normal;font-family:Menlo,'DejaVu Sans Mono',consolas,'Courier New',monospace\"><span style=\"color: #008080; text-decoration-color: #008080\">┏━ Message ━━━━━━━━━━━━━━━━━━━━━━━━━━━━━━━━━━━━━━━━━━━━━━━━━━━━━━━━━━━━━━━━━━━━━━━━━━━━━━━━━━━━━━━━━━━━━━━━━━━━━━━┓</span>\n<span style=\"color: #008080; text-decoration-color: #008080\">┃</span>                                                                                                                 <span style=\"color: #008080; text-decoration-color: #008080\">┃</span>\n<span style=\"color: #008080; text-decoration-color: #008080\">┃</span> <span style=\"color: #008000; text-decoration-color: #008000\">Analyze the semiconductor market performance focusing on:</span>                                                       <span style=\"color: #008080; text-decoration-color: #008080\">┃</span>\n<span style=\"color: #008080; text-decoration-color: #008080\">┃</span> <span style=\"color: #008000; text-decoration-color: #008000\">- NVIDIA (NVDA)</span>                                                                                                 <span style=\"color: #008080; text-decoration-color: #008080\">┃</span>\n<span style=\"color: #008080; text-decoration-color: #008080\">┃</span> <span style=\"color: #008000; text-decoration-color: #008000\">- AMD (AMD)</span>                                                                                                     <span style=\"color: #008080; text-decoration-color: #008080\">┃</span>\n<span style=\"color: #008080; text-decoration-color: #008080\">┃</span> <span style=\"color: #008000; text-decoration-color: #008000\">- Intel (INTC)</span>                                                                                                  <span style=\"color: #008080; text-decoration-color: #008080\">┃</span>\n<span style=\"color: #008080; text-decoration-color: #008080\">┃</span> <span style=\"color: #008000; text-decoration-color: #008000\">- Taiwan Semiconductor (TSM)</span>                                                                                    <span style=\"color: #008080; text-decoration-color: #008080\">┃</span>\n<span style=\"color: #008080; text-decoration-color: #008080\">┃</span> <span style=\"color: #008000; text-decoration-color: #008000\">Compare their market positions, growth metrics, and future outlook.</span>                                             <span style=\"color: #008080; text-decoration-color: #008080\">┃</span>\n<span style=\"color: #008080; text-decoration-color: #008080\">┃</span>                                                                                                                 <span style=\"color: #008080; text-decoration-color: #008080\">┃</span>\n<span style=\"color: #008080; text-decoration-color: #008080\">┗━━━━━━━━━━━━━━━━━━━━━━━━━━━━━━━━━━━━━━━━━━━━━━━━━━━━━━━━━━━━━━━━━━━━━━━━━━━━━━━━━━━━━━━━━━━━━━━━━━━━━━━━━━━━━━━━━┛</span>\n<span style=\"color: #008000; text-decoration-color: #008000\">┏━ Reasoning step 1 ━━━━━━━━━━━━━━━━━━━━━━━━━━━━━━━━━━━━━━━━━━━━━━━━━━━━━━━━━━━━━━━━━━━━━━━━━━━━━━━━━━━━━━━━━━━━━━┓</span>\n<span style=\"color: #008000; text-decoration-color: #008000\">┃</span>                                                                                                                 <span style=\"color: #008000; text-decoration-color: #008000\">┃</span>\n<span style=\"color: #008000; text-decoration-color: #008000\">┃</span> <span style=\"font-weight: bold\">Analyze Semiconductor Market</span>                                                                                    <span style=\"color: #008000; text-decoration-color: #008000\">┃</span>\n<span style=\"color: #008000; text-decoration-color: #008000\">┃</span> <span style=\"color: #7f7f7f; text-decoration-color: #7f7f7f; font-weight: bold\">Action:</span><span style=\"color: #7f7f7f; text-decoration-color: #7f7f7f\"> Gather data using finance agent</span>                                                                         <span style=\"color: #008000; text-decoration-color: #008000\">┃</span>\n<span style=\"color: #008000; text-decoration-color: #008000\">┃</span>                                                                                                                 <span style=\"color: #008000; text-decoration-color: #008000\">┃</span>\n<span style=\"color: #008000; text-decoration-color: #008000\">┃</span> <span style=\"color: #7f7f7f; text-decoration-color: #7f7f7f; font-weight: bold\">Reasoning:</span><span style=\"color: #7f7f7f; text-decoration-color: #7f7f7f\"> I need to analyze the semiconductor market performance of NVIDIA, AMD, Intel, and Taiwan </span>            <span style=\"color: #008000; text-decoration-color: #008000\">┃</span>\n<span style=\"color: #008000; text-decoration-color: #008000\">┃</span> <span style=\"color: #7f7f7f; text-decoration-color: #7f7f7f\">Semiconductor, and then compare their market positions, growth metrics, and future outlook. I will start by </span>    <span style=\"color: #008000; text-decoration-color: #008000\">┃</span>\n<span style=\"color: #008000; text-decoration-color: #008000\">┃</span> <span style=\"color: #7f7f7f; text-decoration-color: #7f7f7f\">gathering the necessary data using the available tools. I will assign tasks to the finance agent to collect </span>    <span style=\"color: #008000; text-decoration-color: #008000\">┃</span>\n<span style=\"color: #008000; text-decoration-color: #008000\">┃</span> <span style=\"color: #7f7f7f; text-decoration-color: #7f7f7f\">stock prices, company information, and analyst recommendations for each of the companies. After gathering all </span>  <span style=\"color: #008000; text-decoration-color: #008000\">┃</span>\n<span style=\"color: #008000; text-decoration-color: #008000\">┃</span> <span style=\"color: #7f7f7f; text-decoration-color: #7f7f7f\">the information I will compare the gathered information and create a table for the final answer.</span>                <span style=\"color: #008000; text-decoration-color: #008000\">┃</span>\n<span style=\"color: #008000; text-decoration-color: #008000\">┃</span> <span style=\"color: #7f7f7f; text-decoration-color: #7f7f7f; font-weight: bold\">Confidence:</span><span style=\"color: #7f7f7f; text-decoration-color: #7f7f7f\"> 0.9</span>                                                                                                 <span style=\"color: #008000; text-decoration-color: #008000\">┃</span>\n<span style=\"color: #008000; text-decoration-color: #008000\">┃</span>                                                                                                                 <span style=\"color: #008000; text-decoration-color: #008000\">┃</span>\n<span style=\"color: #008000; text-decoration-color: #008000\">┗━━━━━━━━━━━━━━━━━━━━━━━━━━━━━━━━━━━━━━━━━━━━━━━━━━━━━━━━━━━━━━━━━━━━━━━━━━━━━━━━━━━━━━━━━━━━━━━━━━━━━━━━━━━━━━━━━┛</span>\n<span style=\"color: #008000; text-decoration-color: #008000\">┏━ Reasoning step 2 ━━━━━━━━━━━━━━━━━━━━━━━━━━━━━━━━━━━━━━━━━━━━━━━━━━━━━━━━━━━━━━━━━━━━━━━━━━━━━━━━━━━━━━━━━━━━━━┓</span>\n<span style=\"color: #008000; text-decoration-color: #008000\">┃</span>                                                                                                                 <span style=\"color: #008000; text-decoration-color: #008000\">┃</span>\n<span style=\"color: #008000; text-decoration-color: #008000\">┃</span> <span style=\"font-weight: bold\">Consolidate and present final answer</span>                                                                            <span style=\"color: #008000; text-decoration-color: #008000\">┃</span>\n<span style=\"color: #008000; text-decoration-color: #008000\">┃</span> <span style=\"color: #7f7f7f; text-decoration-color: #7f7f7f; font-weight: bold\">Action:</span><span style=\"color: #7f7f7f; text-decoration-color: #7f7f7f\"> Present the final answer in a table.</span>                                                                    <span style=\"color: #008000; text-decoration-color: #008000\">┃</span>\n<span style=\"color: #008000; text-decoration-color: #008000\">┃</span>                                                                                                                 <span style=\"color: #008000; text-decoration-color: #008000\">┃</span>\n<span style=\"color: #008000; text-decoration-color: #008000\">┃</span> <span style=\"color: #7f7f7f; text-decoration-color: #7f7f7f; font-weight: bold\">Reasoning:</span><span style=\"color: #7f7f7f; text-decoration-color: #7f7f7f\"> I have gathered all the required information about the semiconductor market performance of NVIDIA, </span>  <span style=\"color: #008000; text-decoration-color: #008000\">┃</span>\n<span style=\"color: #008000; text-decoration-color: #008000\">┃</span> <span style=\"color: #7f7f7f; text-decoration-color: #7f7f7f\">AMD, Intel, and Taiwan Semiconductor. Now I will consolidate all the information in a table and respond to the </span> <span style=\"color: #008000; text-decoration-color: #008000\">┃</span>\n<span style=\"color: #008000; text-decoration-color: #008000\">┃</span> <span style=\"color: #7f7f7f; text-decoration-color: #7f7f7f\">user.</span>                                                                                                           <span style=\"color: #008000; text-decoration-color: #008000\">┃</span>\n<span style=\"color: #008000; text-decoration-color: #008000\">┃</span> <span style=\"color: #7f7f7f; text-decoration-color: #7f7f7f; font-weight: bold\">Confidence:</span><span style=\"color: #7f7f7f; text-decoration-color: #7f7f7f\"> 0.9</span>                                                                                                 <span style=\"color: #008000; text-decoration-color: #008000\">┃</span>\n<span style=\"color: #008000; text-decoration-color: #008000\">┃</span>                                                                                                                 <span style=\"color: #008000; text-decoration-color: #008000\">┃</span>\n<span style=\"color: #008000; text-decoration-color: #008000\">┗━━━━━━━━━━━━━━━━━━━━━━━━━━━━━━━━━━━━━━━━━━━━━━━━━━━━━━━━━━━━━━━━━━━━━━━━━━━━━━━━━━━━━━━━━━━━━━━━━━━━━━━━━━━━━━━━━┛</span>\n<span style=\"color: #808000; text-decoration-color: #808000\">┏━ Team Tool Calls ━━━━━━━━━━━━━━━━━━━━━━━━━━━━━━━━━━━━━━━━━━━━━━━━━━━━━━━━━━━━━━━━━━━━━━━━━━━━━━━━━━━━━━━━━━━━━━━┓</span>\n<span style=\"color: #808000; text-decoration-color: #808000\">┃</span>                                                                                                                 <span style=\"color: #808000; text-decoration-color: #808000\">┃</span>\n<span style=\"color: #808000; text-decoration-color: #808000\">┃</span> • think(confidence=0.9, action=Gather data using finance agent, thought=I need to analyze the semiconductor     <span style=\"color: #808000; text-decoration-color: #808000\">┃</span>\n<span style=\"color: #808000; text-decoration-color: #808000\">┃</span>   market performance of NVIDIA, AMD, Intel, and Taiwan Semiconductor, and then compare their market positions,  <span style=\"color: #808000; text-decoration-color: #808000\">┃</span>\n<span style=\"color: #808000; text-decoration-color: #808000\">┃</span>   growth metrics, and future outlook. I will start by gathering the necessary data using the available tools.   <span style=\"color: #808000; text-decoration-color: #808000\">┃</span>\n<span style=\"color: #808000; text-decoration-color: #808000\">┃</span>   I will assign tasks to the finance agent to collect stock prices, company information, and analyst            <span style=\"color: #808000; text-decoration-color: #808000\">┃</span>\n<span style=\"color: #808000; text-decoration-color: #808000\">┃</span>   recommendations for each of the companies. After gathering all the information I will compare the gathered    <span style=\"color: #808000; text-decoration-color: #808000\">┃</span>\n<span style=\"color: #808000; text-decoration-color: #808000\">┃</span>   information and create a table for the final answer., title=Analyze Semiconductor Market)                     <span style=\"color: #808000; text-decoration-color: #808000\">┃</span>\n<span style=\"color: #808000; text-decoration-color: #808000\">┃</span>                                                                                                                 <span style=\"color: #808000; text-decoration-color: #808000\">┃</span>\n<span style=\"color: #808000; text-decoration-color: #808000\">┃</span> • transfer_task_to_member(member_id=finance-agent, task_description=Get the current stock price for NVIDIA      <span style=\"color: #808000; text-decoration-color: #808000\">┃</span>\n<span style=\"color: #808000; text-decoration-color: #808000\">┃</span>   (NVDA), AMD (AMD), Intel (INTC), and Taiwan Semiconductor (TSM)., expected_output=Current stock prices for    <span style=\"color: #808000; text-decoration-color: #808000\">┃</span>\n<span style=\"color: #808000; text-decoration-color: #808000\">┃</span>   NVDA, AMD, INTC, and TSM.)                                                                                    <span style=\"color: #808000; text-decoration-color: #808000\">┃</span>\n<span style=\"color: #808000; text-decoration-color: #808000\">┃</span>                                                                                                                 <span style=\"color: #808000; text-decoration-color: #808000\">┃</span>\n<span style=\"color: #808000; text-decoration-color: #808000\">┃</span> • transfer_task_to_member(expected_output=Company information (market cap, P/E ratio, revenue growth) for       <span style=\"color: #808000; text-decoration-color: #808000\">┃</span>\n<span style=\"color: #808000; text-decoration-color: #808000\">┃</span>   NVDA, AMD, INTC, and TSM., task_description=Get company information (market cap, P/E ratio, revenue growth)   <span style=\"color: #808000; text-decoration-color: #808000\">┃</span>\n<span style=\"color: #808000; text-decoration-color: #808000\">┃</span>   for NVIDIA (NVDA), AMD (AMD), Intel (INTC), and Taiwan Semiconductor (TSM)., member_id=finance-agent)         <span style=\"color: #808000; text-decoration-color: #808000\">┃</span>\n<span style=\"color: #808000; text-decoration-color: #808000\">┃</span>                                                                                                                 <span style=\"color: #808000; text-decoration-color: #808000\">┃</span>\n<span style=\"color: #808000; text-decoration-color: #808000\">┃</span> • transfer_task_to_member(expected_output=Analyst recommendations for NVDA, AMD, INTC, and TSM.,                <span style=\"color: #808000; text-decoration-color: #808000\">┃</span>\n<span style=\"color: #808000; text-decoration-color: #808000\">┃</span>   task_description=Get analyst recommendations for NVIDIA (NVDA), AMD (AMD), Intel (INTC), and Taiwan           <span style=\"color: #808000; text-decoration-color: #808000\">┃</span>\n<span style=\"color: #808000; text-decoration-color: #808000\">┃</span>   Semiconductor (TSM)., member_id=finance-agent)                                                                <span style=\"color: #808000; text-decoration-color: #808000\">┃</span>\n<span style=\"color: #808000; text-decoration-color: #808000\">┃</span>                                                                                                                 <span style=\"color: #808000; text-decoration-color: #808000\">┃</span>\n<span style=\"color: #808000; text-decoration-color: #808000\">┃</span> • think(thought=I have gathered all the required information about the semiconductor market performance of      <span style=\"color: #808000; text-decoration-color: #808000\">┃</span>\n<span style=\"color: #808000; text-decoration-color: #808000\">┃</span>   NVIDIA, AMD, Intel, and Taiwan Semiconductor. Now I will consolidate all the information in a table and       <span style=\"color: #808000; text-decoration-color: #808000\">┃</span>\n<span style=\"color: #808000; text-decoration-color: #808000\">┃</span>   respond to the user., action=Present the final answer in a table., confidence=0.9, title=Consolidate and      <span style=\"color: #808000; text-decoration-color: #808000\">┃</span>\n<span style=\"color: #808000; text-decoration-color: #808000\">┃</span>   present final answer)                                                                                         <span style=\"color: #808000; text-decoration-color: #808000\">┃</span>\n<span style=\"color: #808000; text-decoration-color: #808000\">┃</span>                                                                                                                 <span style=\"color: #808000; text-decoration-color: #808000\">┃</span>\n<span style=\"color: #808000; text-decoration-color: #808000\">┗━━━━━━━━━━━━━━━━━━━━━━━━━━━━━━━━━━━━━━━━━━━━━━━━━━━━━━━━━━━━━━━━━━━━━━━━━━━━━━━━━━━━━━━━━━━━━━━━━━━━━━━━━━━━━━━━━┛</span>\n<span style=\"color: #000080; text-decoration-color: #000080\">┏━ Response (27.8s) ━━━━━━━━━━━━━━━━━━━━━━━━━━━━━━━━━━━━━━━━━━━━━━━━━━━━━━━━━━━━━━━━━━━━━━━━━━━━━━━━━━━━━━━━━━━━━━┓</span>\n<span style=\"color: #000080; text-decoration-color: #000080\">┃</span>                                                                                                                 <span style=\"color: #000080; text-decoration-color: #000080\">┃</span>\n<span style=\"color: #000080; text-decoration-color: #000080\">┃</span>                                                                                                                 <span style=\"color: #000080; text-decoration-color: #000080\">┃</span>\n<span style=\"color: #000080; text-decoration-color: #000080\">┃</span>                                                                                                                 <span style=\"color: #000080; text-decoration-color: #000080\">┃</span>\n<span style=\"color: #000080; text-decoration-color: #000080\">┃</span>  <span style=\"font-weight: bold\">                    </span> <span style=\"font-weight: bold\">                   </span> <span style=\"font-weight: bold\">                  </span> <span style=\"font-weight: bold\">           </span> <span style=\"font-weight: bold\">                </span> <span style=\"font-weight: bold\"> Analyst            </span>  <span style=\"color: #000080; text-decoration-color: #000080\">┃</span>\n<span style=\"color: #000080; text-decoration-color: #000080\">┃</span>  <span style=\"font-weight: bold\">                    </span> <span style=\"font-weight: bold\">                   </span> <span style=\"font-weight: bold\">                  </span> <span style=\"font-weight: bold\">           </span> <span style=\"font-weight: bold\">                </span> <span style=\"font-weight: bold\"> Recommendation     </span>  <span style=\"color: #000080; text-decoration-color: #000080\">┃</span>\n<span style=\"color: #000080; text-decoration-color: #000080\">┃</span>  <span style=\"font-weight: bold\"> Company            </span> <span style=\"font-weight: bold\"> Stock Price (USD) </span> <span style=\"font-weight: bold\"> Market Cap (USD) </span> <span style=\"font-weight: bold\"> P/E Ratio </span> <span style=\"font-weight: bold\"> Revenue Growth </span> <span style=\"font-weight: bold\"> (Current)          </span>  <span style=\"color: #000080; text-decoration-color: #000080\">┃</span>\n<span style=\"color: #000080; text-decoration-color: #000080\">┃</span>  ━━━━━━━━━━━━━━━━━━━━━━━━━━━━━━━━━━━━━━━━━━━━━━━━━━━━━━━━━━━━━━━━━━━━━━━━━━━━━━━━━━━━━━━━━━━━━━━━━━━━━━━━━━━━━  <span style=\"color: #000080; text-decoration-color: #000080\">┃</span>\n<span style=\"color: #000080; text-decoration-color: #000080\">┃</span>   NVIDIA (NVDA)        131.29              3201847787520      44.66       0.78             Strong Buy (12),     <span style=\"color: #000080; text-decoration-color: #000080\">┃</span>\n<span style=\"color: #000080; text-decoration-color: #000080\">┃</span>                                                                                            Buy (41), Hold       <span style=\"color: #000080; text-decoration-color: #000080\">┃</span>\n<span style=\"color: #000080; text-decoration-color: #000080\">┃</span>                                                                                            (8), Sell (1),       <span style=\"color: #000080; text-decoration-color: #000080\">┃</span>\n<span style=\"color: #000080; text-decoration-color: #000080\">┃</span>                                                                                            Strong Sell (0)      <span style=\"color: #000080; text-decoration-color: #000080\">┃</span>\n<span style=\"color: #000080; text-decoration-color: #000080\">┃</span>   AMD (AMD)            110.31              178856640512       80.52       0.36             Strong Buy (8),      <span style=\"color: #000080; text-decoration-color: #000080\">┃</span>\n<span style=\"color: #000080; text-decoration-color: #000080\">┃</span>                                                                                            Buy (26), Hold       <span style=\"color: #000080; text-decoration-color: #000080\">┃</span>\n<span style=\"color: #000080; text-decoration-color: #000080\">┃</span>                                                                                            (16), Sell (1),      <span style=\"color: #000080; text-decoration-color: #000080\">┃</span>\n<span style=\"color: #000080; text-decoration-color: #000080\">┃</span>                                                                                            Strong Sell (0)      <span style=\"color: #000080; text-decoration-color: #000080\">┃</span>\n<span style=\"color: #000080; text-decoration-color: #000080\">┃</span>   Intel (INTC)         20.05               87458095104        N/A         -0.00            Strong Buy (0),      <span style=\"color: #000080; text-decoration-color: #000080\">┃</span>\n<span style=\"color: #000080; text-decoration-color: #000080\">┃</span>                                                                                            Buy (2), Hold        <span style=\"color: #000080; text-decoration-color: #000080\">┃</span>\n<span style=\"color: #000080; text-decoration-color: #000080\">┃</span>                                                                                            (39), Sell (2),      <span style=\"color: #000080; text-decoration-color: #000080\">┃</span>\n<span style=\"color: #000080; text-decoration-color: #000080\">┃</span>                                                                                            Strong Sell (2)      <span style=\"color: #000080; text-decoration-color: #000080\">┃</span>\n<span style=\"color: #000080; text-decoration-color: #000080\">┃</span>   Taiwan               191.98              995708108800       23.10       0.42             Strong Buy (5),      <span style=\"color: #000080; text-decoration-color: #000080\">┃</span>\n<span style=\"color: #000080; text-decoration-color: #000080\">┃</span>   Semiconductor                                                                            Buy (11), Hold       <span style=\"color: #000080; text-decoration-color: #000080\">┃</span>\n<span style=\"color: #000080; text-decoration-color: #000080\">┃</span>   (TSM)                                                                                    (1), Sell (0),       <span style=\"color: #000080; text-decoration-color: #000080\">┃</span>\n<span style=\"color: #000080; text-decoration-color: #000080\">┃</span>                                                                                            Strong Sell (0)      <span style=\"color: #000080; text-decoration-color: #000080\">┃</span>\n<span style=\"color: #000080; text-decoration-color: #000080\">┃</span>                                                                                                                 <span style=\"color: #000080; text-decoration-color: #000080\">┃</span>\n<span style=\"color: #000080; text-decoration-color: #000080\">┃</span>                                                                                                                 <span style=\"color: #000080; text-decoration-color: #000080\">┃</span>\n<span style=\"color: #000080; text-decoration-color: #000080\">┗━━━━━━━━━━━━━━━━━━━━━━━━━━━━━━━━━━━━━━━━━━━━━━━━━━━━━━━━━━━━━━━━━━━━━━━━━━━━━━━━━━━━━━━━━━━━━━━━━━━━━━━━━━━━━━━━━┛</span>\n</pre>\n"
                },
                "metadata": {}
              }
            ]
          }
        },
        "3af7f473f24140e88812c9845cc0c113": {
          "model_module": "@jupyter-widgets/base",
          "model_name": "LayoutModel",
          "model_module_version": "1.2.0",
          "state": {
            "_model_module": "@jupyter-widgets/base",
            "_model_module_version": "1.2.0",
            "_model_name": "LayoutModel",
            "_view_count": null,
            "_view_module": "@jupyter-widgets/base",
            "_view_module_version": "1.2.0",
            "_view_name": "LayoutView",
            "align_content": null,
            "align_items": null,
            "align_self": null,
            "border": null,
            "bottom": null,
            "display": null,
            "flex": null,
            "flex_flow": null,
            "grid_area": null,
            "grid_auto_columns": null,
            "grid_auto_flow": null,
            "grid_auto_rows": null,
            "grid_column": null,
            "grid_gap": null,
            "grid_row": null,
            "grid_template_areas": null,
            "grid_template_columns": null,
            "grid_template_rows": null,
            "height": null,
            "justify_content": null,
            "justify_items": null,
            "left": null,
            "margin": null,
            "max_height": null,
            "max_width": null,
            "min_height": null,
            "min_width": null,
            "object_fit": null,
            "object_position": null,
            "order": null,
            "overflow": null,
            "overflow_x": null,
            "overflow_y": null,
            "padding": null,
            "right": null,
            "top": null,
            "visibility": null,
            "width": null
          }
        }
      }
    }
  },
  "nbformat": 4,
  "nbformat_minor": 0
}